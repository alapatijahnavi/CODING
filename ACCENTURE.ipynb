{
  "nbformat": 4,
  "nbformat_minor": 0,
  "metadata": {
    "colab": {
      "provenance": [],
      "authorship_tag": "ABX9TyOSo1RxBe3R2U3437iaRhm1",
      "include_colab_link": true
    },
    "kernelspec": {
      "name": "python3",
      "display_name": "Python 3"
    },
    "language_info": {
      "name": "python"
    }
  },
  "cells": [
    {
      "cell_type": "markdown",
      "metadata": {
        "id": "view-in-github",
        "colab_type": "text"
      },
      "source": [
        "<a href=\"https://colab.research.google.com/github/alapatijahnavi/CODING/blob/main/ACCENTURE.ipynb\" target=\"_parent\"><img src=\"https://colab.research.google.com/assets/colab-badge.svg\" alt=\"Open In Colab\"/></a>"
      ]
    },
    {
      "cell_type": "code",
      "execution_count": null,
      "metadata": {
        "id": "5UMqyfAH55FD"
      },
      "outputs": [],
      "source": [
        "def Maximum_product(a,b):\n",
        "  if a >b:\n",
        "    L1= a * b\n",
        "    L2 = b * b\n",
        "  else:\n",
        "    L1 = a * b\n",
        "    L2 = a * a\n",
        "    return(max(L1,L2))"
      ]
    },
    {
      "cell_type": "markdown",
      "source": [
        "# **MAXIMUM PRODUCT**"
      ],
      "metadata": {
        "id": "Coxlkq340X6j"
      }
    },
    {
      "cell_type": "code",
      "source": [
        "def max(a,b):\n",
        "  if a > b:\n",
        "    return a\n",
        "  else:\n",
        "    return b\n",
        "L1, L2, R1, R2 = 1, 2, 3, 4\n",
        "max_product = max(a=max(max(L1 * L2, L1 * R2),max(R1 * L2, R1 * R2)),b=max(L1 * R1, L2 * R2))\n",
        "print(max_product)"
      ],
      "metadata": {
        "colab": {
          "base_uri": "https://localhost:8080/"
        },
        "id": "mIoL2LOv-4ip",
        "outputId": "81c44328-af20-4d33-f99c-e4dd599cb78f"
      },
      "execution_count": null,
      "outputs": [
        {
          "output_type": "stream",
          "name": "stdout",
          "text": [
            "12\n"
          ]
        }
      ]
    },
    {
      "cell_type": "code",
      "source": [
        "n = int(input())\n",
        "if n > 0:\n",
        "  print(n*(3*n+1))//2\n",
        "else:\n",
        "    print(-1)"
      ],
      "metadata": {
        "colab": {
          "base_uri": "https://localhost:8080/"
        },
        "id": "hSkq2Ga6HGQm",
        "outputId": "e37cdd76-c25b-4e28-bb87-190d50e6197f"
      },
      "execution_count": null,
      "outputs": [
        {
          "output_type": "stream",
          "name": "stdout",
          "text": [
            "-1\n",
            "-1\n"
          ]
        }
      ]
    },
    {
      "cell_type": "markdown",
      "source": [
        "# **NO OF CARDS**"
      ],
      "metadata": {
        "id": "GvZiqDGj0TX_"
      }
    },
    {
      "cell_type": "code",
      "source": [
        "def Number_of_cards(n):\n",
        "  if n < 0:\n",
        "    return -1\n",
        "  else:\n",
        "    return(n*(3*n+1))//2\n",
        "n = int(input())\n",
        "print(Number_of_cards(n))\n"
      ],
      "metadata": {
        "colab": {
          "base_uri": "https://localhost:8080/"
        },
        "id": "sXUOovREIfDw",
        "outputId": "ea873daf-0eac-4bdd-eabe-245e0bef5159"
      },
      "execution_count": null,
      "outputs": [
        {
          "output_type": "stream",
          "name": "stdout",
          "text": [
            "5\n",
            "40\n"
          ]
        }
      ]
    },
    {
      "cell_type": "code",
      "source": [
        "n = int(input())\n",
        "count = 0\n",
        "for i in range(1, n+1):\n",
        "  digit_count = 0\n",
        "  num = i\n",
        "while num > 0:\n",
        "  digit_count += 1\n",
        "  num //= 10\n",
        "  if digit_count % 2 == 0:\n",
        "    count +=1\n",
        "    print(count)\n",
        "\n"
      ],
      "metadata": {
        "colab": {
          "base_uri": "https://localhost:8080/"
        },
        "id": "k_V-VWWCLAt3",
        "outputId": "ed04a4b4-4c61-48d5-f177-2df784856e15"
      },
      "execution_count": null,
      "outputs": [
        {
          "name": "stdout",
          "output_type": "stream",
          "text": [
            "2\n"
          ]
        }
      ]
    },
    {
      "cell_type": "markdown",
      "source": [
        "# **AUTOMORPHIC NUMBER**"
      ],
      "metadata": {
        "id": "iALAaljBx9pW"
      }
    },
    {
      "cell_type": "code",
      "source": [
        "n = int(input())\n",
        "m = n * n\n",
        "num = m % 10\n",
        "if num == n:\n",
        "  print(\"Automorphic\")\n",
        "else:\n",
        "  print(\"Not Automorphic\")"
      ],
      "metadata": {
        "colab": {
          "base_uri": "https://localhost:8080/"
        },
        "id": "FNSbWrLgxg4e",
        "outputId": "052f1687-3406-44c4-8aec-a5e103a91cd2"
      },
      "execution_count": null,
      "outputs": [
        {
          "output_type": "stream",
          "name": "stdout",
          "text": [
            "5\n",
            "Automorphic\n"
          ]
        }
      ]
    },
    {
      "cell_type": "markdown",
      "source": [
        "# **ABUNDANT**"
      ],
      "metadata": {
        "id": "s51UB3kIyxa0"
      }
    },
    {
      "cell_type": "code",
      "source": [
        "n = int(input())\n",
        "sum = 0\n",
        "for i in range(1, n):\n",
        "  if n % i == 0:\n",
        "    sum =sum+i\n",
        "    if sum > n:\n",
        "      print(\"Abundant\")"
      ],
      "metadata": {
        "colab": {
          "base_uri": "https://localhost:8080/"
        },
        "id": "Y9TpDP90y0KX",
        "outputId": "acadb351-ef7a-44ac-b669-77d2cba8caa1"
      },
      "execution_count": null,
      "outputs": [
        {
          "name": "stdout",
          "output_type": "stream",
          "text": [
            "1\n"
          ]
        }
      ]
    },
    {
      "cell_type": "markdown",
      "source": [
        "# **HARSHAD NUMBER**"
      ],
      "metadata": {
        "id": "x63mZR1y0Gml"
      }
    },
    {
      "cell_type": "code",
      "source": [
        "n = int(input())\n",
        "sum = 0\n",
        "rem = n%10\n",
        "while(rem > 0):\n",
        "  sum = sum + rem\n",
        "  n = n//10\n",
        "  rem = n%10\n",
        "  if n%sum == 0:\n",
        "    print(\"Harshad\")\n",
        "  else:\n",
        "    print(\"Not Harshad\")\n"
      ],
      "metadata": {
        "colab": {
          "base_uri": "https://localhost:8080/"
        },
        "id": "8lirjtkC16bo",
        "outputId": "d17c1d8f-5899-40d3-da32-96bee429e644"
      },
      "execution_count": null,
      "outputs": [
        {
          "output_type": "stream",
          "name": "stdout",
          "text": [
            "21\n",
            "Harshad\n",
            "Harshad\n"
          ]
        }
      ]
    },
    {
      "cell_type": "markdown",
      "source": [
        "# **PERFECT NUMBER**"
      ],
      "metadata": {
        "id": "Cc--DXEU3Iqf"
      }
    },
    {
      "cell_type": "code",
      "source": [
        "n = int(input())\n",
        "sum = 0\n",
        "for i in range(1, n):\n",
        "  if n % i == 0:\n",
        "    sum =sum+i\n",
        "    if sum == n:\n",
        "      print(\"Perfect Number\")"
      ],
      "metadata": {
        "colab": {
          "base_uri": "https://localhost:8080/"
        },
        "id": "5IvUsxad4ruJ",
        "outputId": "14abb50e-676b-467b-fe21-be9aa38a3c59"
      },
      "execution_count": null,
      "outputs": [
        {
          "output_type": "stream",
          "name": "stdout",
          "text": [
            "28\n",
            "Perfect Number\n"
          ]
        }
      ]
    },
    {
      "cell_type": "markdown",
      "source": [
        "# **FRIENDLY PAIR**"
      ],
      "metadata": {
        "id": "Q_3sAhkk6Ndk"
      }
    },
    {
      "cell_type": "code",
      "source": [
        "n1 = int(input())\n",
        "n2 = int(input())\n",
        "sum1 = 0\n",
        "sum2 = 0\n",
        "for i in range(1, n1):\n",
        "  if n1 % i == 0:\n",
        "    sum1 =sum1+i\n",
        "    for j in range(1, n2):\n",
        "      if n2 % j == 0:\n",
        "        sum2 = sum2+j\n",
        "        if sum1 == n2 and sum2 == n1:\n",
        "          print(\"Frienly Pair\")\n",
        "        else:\n",
        "          print(\"Not Friendly Pair\")"
      ],
      "metadata": {
        "colab": {
          "base_uri": "https://localhost:8080/"
        },
        "id": "TWiQcxZg6UuW",
        "outputId": "9edfba8d-66b8-4e05-9c15-ea96d65ddcd8"
      },
      "execution_count": null,
      "outputs": [
        {
          "output_type": "stream",
          "name": "stdout",
          "text": [
            "4\n",
            "2\n",
            "Not Friendly Pair\n",
            "Not Friendly Pair\n"
          ]
        }
      ]
    },
    {
      "cell_type": "markdown",
      "source": [
        "# **PERFECT SQUARE**"
      ],
      "metadata": {
        "id": "aQO4sXcU9nUt"
      }
    },
    {
      "cell_type": "code",
      "source": [
        "n = 25\n",
        "for i in range(1, n):\n",
        "  if i * i == n:\n",
        "    print(\"Perfect Square\")\n",
        "  else:\n",
        "    print(\"Not Perfect Square\")"
      ],
      "metadata": {
        "colab": {
          "base_uri": "https://localhost:8080/"
        },
        "id": "ble0baWT9qTP",
        "outputId": "295e26ad-b083-4f38-9027-36a9bc2dcc7a"
      },
      "execution_count": null,
      "outputs": [
        {
          "output_type": "stream",
          "name": "stdout",
          "text": [
            "Not Perfect Square\n",
            "Not Perfect Square\n",
            "Not Perfect Square\n",
            "Not Perfect Square\n",
            "Perfect Square\n",
            "Not Perfect Square\n",
            "Not Perfect Square\n",
            "Not Perfect Square\n",
            "Not Perfect Square\n",
            "Not Perfect Square\n",
            "Not Perfect Square\n",
            "Not Perfect Square\n",
            "Not Perfect Square\n",
            "Not Perfect Square\n",
            "Not Perfect Square\n",
            "Not Perfect Square\n",
            "Not Perfect Square\n",
            "Not Perfect Square\n",
            "Not Perfect Square\n",
            "Not Perfect Square\n",
            "Not Perfect Square\n",
            "Not Perfect Square\n",
            "Not Perfect Square\n",
            "Not Perfect Square\n"
          ]
        }
      ]
    },
    {
      "cell_type": "markdown",
      "source": [
        "# **vowels and consonants in string**\n"
      ],
      "metadata": {
        "id": "BYPuKElk5PV-"
      }
    },
    {
      "cell_type": "code",
      "source": [
        "c = input()\n",
        "if(c == 'a' or c == 'e' or c == 'i' or c == 'o' or c == 'u' or c == 'A' or c == 'E' or c == 'I' or c == 'O' or c == 'U'):\n",
        "  print(\"vowels\")\n",
        "else:\n",
        "  print(\"consonants\")\n"
      ],
      "metadata": {
        "colab": {
          "base_uri": "https://localhost:8080/"
        },
        "id": "bP16vbpt5Y6M",
        "outputId": "334dd651-5da5-4e23-8821-004b2b680c1b"
      },
      "execution_count": 1,
      "outputs": [
        {
          "output_type": "stream",
          "name": "stdout",
          "text": [
            "a\n",
            "vowels\n"
          ]
        }
      ]
    },
    {
      "cell_type": "code",
      "source": [
        "char = input()\n",
        "v = 0\n",
        "c = 0\n",
        "for i in char:\n",
        "  if(i == 'i'):\n",
        "    v += 1\n",
        "  else:\n",
        "    c += 1\n",
        "print(v)\n",
        "print(c)\n"
      ],
      "metadata": {
        "colab": {
          "base_uri": "https://localhost:8080/"
        },
        "id": "DjNAJ_IX6-CU",
        "outputId": "7ed5f752-b064-485d-be64-7c66b41f1009"
      },
      "execution_count": 22,
      "outputs": [
        {
          "output_type": "stream",
          "name": "stdout",
          "text": [
            "janu\n",
            "0\n",
            "4\n"
          ]
        }
      ]
    },
    {
      "cell_type": "markdown",
      "source": [
        "**ALAPABETHS**"
      ],
      "metadata": {
        "id": "WkQ5tgEl9FJt"
      }
    },
    {
      "cell_type": "code",
      "source": [
        "ch = input()\n",
        "if 'a' <= ch <= 'z' or 'A' <= ch <= 'Z':\n",
        "  print(\"Alpha\")\n",
        "else:\n",
        "  print(\"Not Alpha\")"
      ],
      "metadata": {
        "colab": {
          "base_uri": "https://localhost:8080/"
        },
        "id": "8-G2fdMW_AGb",
        "outputId": "01d1a07f-9193-42ce-81d6-7f6a31b05d33"
      },
      "execution_count": 20,
      "outputs": [
        {
          "output_type": "stream",
          "name": "stdout",
          "text": [
            "d\n",
            "Alpha\n"
          ]
        }
      ]
    },
    {
      "cell_type": "markdown",
      "source": [
        "# **ASKII VALUE**"
      ],
      "metadata": {
        "id": "oqefNo46AVrQ"
      }
    },
    {
      "cell_type": "code",
      "source": [
        "a = input()\n",
        "b = ord(a)\n",
        "print(b)\n"
      ],
      "metadata": {
        "colab": {
          "base_uri": "https://localhost:8080/"
        },
        "id": "Aadser1FAaoU",
        "outputId": "be642efb-71d0-417c-ba39-5f3f6d18ff97"
      },
      "execution_count": 25,
      "outputs": [
        {
          "output_type": "stream",
          "name": "stdout",
          "text": [
            "@\n",
            "64\n"
          ]
        }
      ]
    },
    {
      "cell_type": "markdown",
      "source": [
        "# **LENGTH OF THE STRING**"
      ],
      "metadata": {
        "id": "XyUrTNlpA0MM"
      }
    },
    {
      "cell_type": "code",
      "source": [
        "s = input()\n",
        "l = 0\n",
        "for i in s:\n",
        "  l+=1\n",
        "  print(l)"
      ],
      "metadata": {
        "colab": {
          "base_uri": "https://localhost:8080/"
        },
        "id": "f6LadPbJBKUt",
        "outputId": "b11bfba3-f9b2-445f-9d6c-e4efbcd6a6ac"
      },
      "execution_count": 28,
      "outputs": [
        {
          "output_type": "stream",
          "name": "stdout",
          "text": [
            "janu\n",
            "4\n"
          ]
        }
      ]
    },
    {
      "cell_type": "code",
      "source": [
        "a =[1, 4, 3]\n",
        "a.sort()\n",
        "print(a)"
      ],
      "metadata": {
        "colab": {
          "base_uri": "https://localhost:8080/"
        },
        "id": "ChMiLtMKCOkr",
        "outputId": "21253e8c-a2b9-4c4d-fbc1-244a481efaa8"
      },
      "execution_count": 29,
      "outputs": [
        {
          "output_type": "stream",
          "name": "stdout",
          "text": [
            "[1, 3, 4]\n"
          ]
        }
      ]
    },
    {
      "cell_type": "code",
      "source": [
        "a =[1, 4, 3]\n",
        "b = sorted(a)\n",
        "print(b)"
      ],
      "metadata": {
        "colab": {
          "base_uri": "https://localhost:8080/"
        },
        "id": "kcL8-L6sCY6b",
        "outputId": "21ec5b3d-a614-42d0-b6ff-d5ef27c30708"
      },
      "execution_count": 33,
      "outputs": [
        {
          "output_type": "stream",
          "name": "stdout",
          "text": [
            "[1, 3, 4]\n"
          ]
        }
      ]
    },
    {
      "cell_type": "markdown",
      "source": [
        "# **with swap case and built in functions**"
      ],
      "metadata": {
        "id": "6lAD5yu2CxbA"
      }
    },
    {
      "cell_type": "code",
      "source": [
        "str = input()\n",
        "print(str.swapcase())"
      ],
      "metadata": {
        "colab": {
          "base_uri": "https://localhost:8080/"
        },
        "id": "T755Ja33C7Xg",
        "outputId": "4c32ae35-1769-464e-f629-ddad2e579887"
      },
      "execution_count": 34,
      "outputs": [
        {
          "output_type": "stream",
          "name": "stdout",
          "text": [
            "JANU\n",
            "janu\n"
          ]
        }
      ]
    },
    {
      "cell_type": "code",
      "source": [
        "str = input()\n",
        "str1 = \"\"\n",
        "for i in str:\n",
        "  if i.isupper():\n",
        "    i = i.lower()\n",
        "    str1 += i\n",
        "  else:\n",
        "    i = i.upper()\n",
        "    str1 += i\n",
        "    print(str1)"
      ],
      "metadata": {
        "colab": {
          "base_uri": "https://localhost:8080/"
        },
        "id": "3V2CcwyBDGEp",
        "outputId": "aba5a67d-15ab-4d4b-8cb5-0c552d1d15a9"
      },
      "execution_count": 35,
      "outputs": [
        {
          "output_type": "stream",
          "name": "stdout",
          "text": [
            "janu\n",
            "J\n",
            "JA\n",
            "JAN\n",
            "JANU\n"
          ]
        }
      ]
    },
    {
      "cell_type": "code",
      "source": [
        "str = input()\n",
        "str = str[0].upper() + str[1:len(str)-1] + str[len(str)-1]\n",
        "print(str)"
      ],
      "metadata": {
        "colab": {
          "base_uri": "https://localhost:8080/"
        },
        "id": "Bku84L2JFNnI",
        "outputId": "5663f305-ad72-48a4-daad-ef5b41aa8fa8"
      },
      "execution_count": 38,
      "outputs": [
        {
          "output_type": "stream",
          "name": "stdout",
          "text": [
            "jahnavi\n",
            "Jahnavi\n"
          ]
        }
      ]
    },
    {
      "cell_type": "markdown",
      "source": [
        "# **SPLIT METHOD**"
      ],
      "metadata": {
        "id": "LYJNrYt7FvIa"
      }
    },
    {
      "cell_type": "code",
      "source": [
        "str = input()\n",
        "words = str.split()\n",
        "cap_word = []\n",
        "for word in words:\n",
        "  if len(word) > 1:\n",
        "    cap_word = word[0].upper() + word[1:-1] + word[-1].upper()\n",
        "else:\n",
        "    cap_word = word.upper()\n",
        "    cap_word += (cap_word)\n",
        "    print(''.join(cap_word))"
      ],
      "metadata": {
        "colab": {
          "base_uri": "https://localhost:8080/"
        },
        "id": "wfnWNqcFFzpo",
        "outputId": "ed7dcb91-f3b9-403e-d679-dc7c80fb9a0f"
      },
      "execution_count": 45,
      "outputs": [
        {
          "output_type": "stream",
          "name": "stdout",
          "text": [
            "crack a code\n",
            "CODECODE\n"
          ]
        }
      ]
    },
    {
      "cell_type": "markdown",
      "source": [
        "# ***USING SLICE METHOD***"
      ],
      "metadata": {
        "id": "iosSSx6pIZ8O"
      }
    },
    {
      "cell_type": "code",
      "source": [
        "str = input()\n",
        "str = str[::-1]\n",
        "print(str)"
      ],
      "metadata": {
        "colab": {
          "base_uri": "https://localhost:8080/"
        },
        "id": "V6ZnNnroIY8T",
        "outputId": "e17cacea-5be4-4565-a063-bcac446559fb"
      },
      "execution_count": 47,
      "outputs": [
        {
          "output_type": "stream",
          "name": "stdout",
          "text": [
            "code\n",
            "edoc\n"
          ]
        }
      ]
    },
    {
      "cell_type": "markdown",
      "source": [
        "# **without using slice method**"
      ],
      "metadata": {
        "id": "G4tBEj98I9_c"
      }
    },
    {
      "cell_type": "code",
      "source": [
        "str = input()\n",
        "str1 = \"\"\n",
        "for i in range(len(str)-1, -1, -1):\n",
        "  str1 += str[i]\n",
        "  print(str1)"
      ],
      "metadata": {
        "colab": {
          "base_uri": "https://localhost:8080/"
        },
        "id": "KMaSmg3xJB1m",
        "outputId": "4b241497-0815-44b3-ab21-552dc2ce9abf"
      },
      "execution_count": 48,
      "outputs": [
        {
          "output_type": "stream",
          "name": "stdout",
          "text": [
            "code\n",
            "e\n",
            "ed\n",
            "edo\n",
            "edoc\n"
          ]
        }
      ]
    }
  ]
}