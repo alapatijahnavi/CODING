{
  "nbformat": 4,
  "nbformat_minor": 0,
  "metadata": {
    "colab": {
      "provenance": [],
      "authorship_tag": "ABX9TyOgMZs4b+Y1wZ3x7v7NEJEK",
      "include_colab_link": true
    },
    "kernelspec": {
      "name": "python3",
      "display_name": "Python 3"
    },
    "language_info": {
      "name": "python"
    }
  },
  "cells": [
    {
      "cell_type": "markdown",
      "metadata": {
        "id": "view-in-github",
        "colab_type": "text"
      },
      "source": [
        "<a href=\"https://colab.research.google.com/github/alapatijahnavi/CODING/blob/main/ACCENTURE.ipynb\" target=\"_parent\"><img src=\"https://colab.research.google.com/assets/colab-badge.svg\" alt=\"Open In Colab\"/></a>"
      ]
    },
    {
      "cell_type": "code",
      "execution_count": 3,
      "metadata": {
        "id": "5UMqyfAH55FD"
      },
      "outputs": [],
      "source": [
        "def Maximum_product(a,b):\n",
        "  if a >b:\n",
        "    L1= a * b\n",
        "    L2 = b * b\n",
        "  else:\n",
        "    L1 = a * b\n",
        "    L2 = a * a\n",
        "    return(max(L1,L2))"
      ]
    },
    {
      "cell_type": "markdown",
      "source": [
        "# **MAXIMUM PRODUCT**"
      ],
      "metadata": {
        "id": "Coxlkq340X6j"
      }
    },
    {
      "cell_type": "code",
      "source": [
        "def max(a,b):\n",
        "  if a > b:\n",
        "    return a\n",
        "  else:\n",
        "    return b\n",
        "L1, L2, R1, R2 = 1, 2, 3, 4\n",
        "max_product = max(a=max(max(L1 * L2, L1 * R2),max(R1 * L2, R1 * R2)),b=max(L1 * R1, L2 * R2))\n",
        "print(max_product)"
      ],
      "metadata": {
        "colab": {
          "base_uri": "https://localhost:8080/"
        },
        "id": "mIoL2LOv-4ip",
        "outputId": "81c44328-af20-4d33-f99c-e4dd599cb78f"
      },
      "execution_count": 4,
      "outputs": [
        {
          "output_type": "stream",
          "name": "stdout",
          "text": [
            "12\n"
          ]
        }
      ]
    },
    {
      "cell_type": "code",
      "source": [
        "n = int(input())\n",
        "if n > 0:\n",
        "  print(n*(3*n+1))//2\n",
        "else:\n",
        "    print(-1)"
      ],
      "metadata": {
        "colab": {
          "base_uri": "https://localhost:8080/"
        },
        "id": "hSkq2Ga6HGQm",
        "outputId": "e37cdd76-c25b-4e28-bb87-190d50e6197f"
      },
      "execution_count": 5,
      "outputs": [
        {
          "output_type": "stream",
          "name": "stdout",
          "text": [
            "-1\n",
            "-1\n"
          ]
        }
      ]
    },
    {
      "cell_type": "markdown",
      "source": [
        "# **NO OF CARDS**"
      ],
      "metadata": {
        "id": "GvZiqDGj0TX_"
      }
    },
    {
      "cell_type": "code",
      "source": [
        "def Number_of_cards(n):\n",
        "  if n < 0:\n",
        "    return -1\n",
        "  else:\n",
        "    return(n*(3*n+1))//2\n",
        "n = int(input())\n",
        "print(Number_of_cards(n))\n"
      ],
      "metadata": {
        "colab": {
          "base_uri": "https://localhost:8080/"
        },
        "id": "sXUOovREIfDw",
        "outputId": "ea873daf-0eac-4bdd-eabe-245e0bef5159"
      },
      "execution_count": 6,
      "outputs": [
        {
          "output_type": "stream",
          "name": "stdout",
          "text": [
            "5\n",
            "40\n"
          ]
        }
      ]
    },
    {
      "cell_type": "code",
      "source": [
        "n = int(input())\n",
        "count = 0\n",
        "for i in range(1, n+1):\n",
        "  digit_count = 0\n",
        "  num = i\n",
        "while num > 0:\n",
        "  digit_count += 1\n",
        "  num //= 10\n",
        "  if digit_count % 2 == 0:\n",
        "    count +=1\n",
        "    print(count)\n",
        "\n"
      ],
      "metadata": {
        "colab": {
          "base_uri": "https://localhost:8080/"
        },
        "id": "k_V-VWWCLAt3",
        "outputId": "ed04a4b4-4c61-48d5-f177-2df784856e15"
      },
      "execution_count": 2,
      "outputs": [
        {
          "name": "stdout",
          "output_type": "stream",
          "text": [
            "2\n"
          ]
        }
      ]
    },
    {
      "cell_type": "markdown",
      "source": [
        "# **AUTOMORPHIC NUMBER**"
      ],
      "metadata": {
        "id": "iALAaljBx9pW"
      }
    },
    {
      "cell_type": "code",
      "source": [
        "n = int(input())\n",
        "m = n * n\n",
        "num = m % 10\n",
        "if num == n:\n",
        "  print(\"Automorphic\")\n",
        "else:\n",
        "  print(\"Not Automorphic\")"
      ],
      "metadata": {
        "colab": {
          "base_uri": "https://localhost:8080/"
        },
        "id": "FNSbWrLgxg4e",
        "outputId": "052f1687-3406-44c4-8aec-a5e103a91cd2"
      },
      "execution_count": 1,
      "outputs": [
        {
          "output_type": "stream",
          "name": "stdout",
          "text": [
            "5\n",
            "Automorphic\n"
          ]
        }
      ]
    },
    {
      "cell_type": "markdown",
      "source": [
        "# **ABUNDANT**"
      ],
      "metadata": {
        "id": "s51UB3kIyxa0"
      }
    },
    {
      "cell_type": "code",
      "source": [
        "n = int(input())\n",
        "sum = 0\n",
        "for i in range(1, n):\n",
        "  if n % i == 0:\n",
        "    sum =sum+i\n",
        "    if sum > n:\n",
        "      print(\"Abundant\")"
      ],
      "metadata": {
        "colab": {
          "base_uri": "https://localhost:8080/"
        },
        "id": "Y9TpDP90y0KX",
        "outputId": "acadb351-ef7a-44ac-b669-77d2cba8caa1"
      },
      "execution_count": 20,
      "outputs": [
        {
          "name": "stdout",
          "output_type": "stream",
          "text": [
            "1\n"
          ]
        }
      ]
    },
    {
      "cell_type": "markdown",
      "source": [
        "# **HARSHAD NUMBER**"
      ],
      "metadata": {
        "id": "x63mZR1y0Gml"
      }
    },
    {
      "cell_type": "code",
      "source": [
        "n = int(input())\n",
        "sum = 0\n",
        "rem = n%10\n",
        "while(rem > 0):\n",
        "  sum = sum + rem\n",
        "  n = n//10\n",
        "  rem = n%10\n",
        "  if n%sum == 0:\n",
        "    print(\"Harshad\")\n",
        "  else:\n",
        "    print(\"Not Harshad\")\n"
      ],
      "metadata": {
        "colab": {
          "base_uri": "https://localhost:8080/"
        },
        "id": "8lirjtkC16bo",
        "outputId": "d17c1d8f-5899-40d3-da32-96bee429e644"
      },
      "execution_count": 23,
      "outputs": [
        {
          "output_type": "stream",
          "name": "stdout",
          "text": [
            "21\n",
            "Harshad\n",
            "Harshad\n"
          ]
        }
      ]
    },
    {
      "cell_type": "markdown",
      "source": [
        "# **PERFECT NUMBER**"
      ],
      "metadata": {
        "id": "Cc--DXEU3Iqf"
      }
    },
    {
      "cell_type": "code",
      "source": [
        "n = int(input())\n",
        "sum = 0\n",
        "for i in range(1, n):\n",
        "  if n % i == 0:\n",
        "    sum =sum+i\n",
        "    if sum == n:\n",
        "      print(\"Perfect Number\")"
      ],
      "metadata": {
        "colab": {
          "base_uri": "https://localhost:8080/"
        },
        "id": "5IvUsxad4ruJ",
        "outputId": "14abb50e-676b-467b-fe21-be9aa38a3c59"
      },
      "execution_count": 27,
      "outputs": [
        {
          "output_type": "stream",
          "name": "stdout",
          "text": [
            "28\n",
            "Perfect Number\n"
          ]
        }
      ]
    },
    {
      "cell_type": "markdown",
      "source": [
        "# **FRIENDLY PAIR**"
      ],
      "metadata": {
        "id": "Q_3sAhkk6Ndk"
      }
    },
    {
      "cell_type": "code",
      "source": [
        "n1 = int(input())\n",
        "n2 = int(input())\n",
        "sum1 = 0\n",
        "sum2 = 0\n",
        "for i in range(1, n1):\n",
        "  if n1 % i == 0:\n",
        "    sum1 =sum1+i\n",
        "    for j in range(1, n2):\n",
        "      if n2 % j == 0:\n",
        "        sum2 = sum2+j\n",
        "        if sum1 == n2 and sum2 == n1:\n",
        "          print(\"Frienly Pair\")\n",
        "        else:\n",
        "          print(\"Not Friendly Pair\")"
      ],
      "metadata": {
        "colab": {
          "base_uri": "https://localhost:8080/"
        },
        "id": "TWiQcxZg6UuW",
        "outputId": "9edfba8d-66b8-4e05-9c15-ea96d65ddcd8"
      },
      "execution_count": 30,
      "outputs": [
        {
          "output_type": "stream",
          "name": "stdout",
          "text": [
            "4\n",
            "2\n",
            "Not Friendly Pair\n",
            "Not Friendly Pair\n"
          ]
        }
      ]
    },
    {
      "cell_type": "markdown",
      "source": [
        "# **PERFECT SQUARE**"
      ],
      "metadata": {
        "id": "aQO4sXcU9nUt"
      }
    },
    {
      "cell_type": "code",
      "source": [
        "n = 25\n",
        "for i in range(1, n):\n",
        "  if i * i == n:\n",
        "    print(\"Perfect Square\")\n",
        "  else:\n",
        "    print(\"Not Perfect Square\")"
      ],
      "metadata": {
        "colab": {
          "base_uri": "https://localhost:8080/"
        },
        "id": "ble0baWT9qTP",
        "outputId": "295e26ad-b083-4f38-9027-36a9bc2dcc7a"
      },
      "execution_count": 33,
      "outputs": [
        {
          "output_type": "stream",
          "name": "stdout",
          "text": [
            "Not Perfect Square\n",
            "Not Perfect Square\n",
            "Not Perfect Square\n",
            "Not Perfect Square\n",
            "Perfect Square\n",
            "Not Perfect Square\n",
            "Not Perfect Square\n",
            "Not Perfect Square\n",
            "Not Perfect Square\n",
            "Not Perfect Square\n",
            "Not Perfect Square\n",
            "Not Perfect Square\n",
            "Not Perfect Square\n",
            "Not Perfect Square\n",
            "Not Perfect Square\n",
            "Not Perfect Square\n",
            "Not Perfect Square\n",
            "Not Perfect Square\n",
            "Not Perfect Square\n",
            "Not Perfect Square\n",
            "Not Perfect Square\n",
            "Not Perfect Square\n",
            "Not Perfect Square\n",
            "Not Perfect Square\n"
          ]
        }
      ]
    }
  ]
}